{
 "cells": [
  {
   "cell_type": "code",
   "execution_count": 1,
   "id": "44fa446a",
   "metadata": {},
   "outputs": [],
   "source": [
    "import pandas as pd\n",
    "import numpy as np\n",
    "import matplotlib.pyplot as plt\n",
    "import seaborn as sns\n",
    "import sklearn\n",
    "import pickle\n",
    "import json \n",
    "pd.set_option('display.max_columns', None)"
   ]
  },
  {
   "cell_type": "code",
   "execution_count": 2,
   "id": "b8d1db9a",
   "metadata": {},
   "outputs": [],
   "source": [
    "f = open('Full_stops_sequence_merged.json',)\n",
    "Stops_Seq = json.load(f)"
   ]
  },
  {
   "cell_type": "code",
   "execution_count": 13,
   "id": "63a4ebd6",
   "metadata": {},
   "outputs": [],
   "source": [
    "def get_route(stops_sequence, bus_route):\n",
    "    route_dict = {}\n",
    "    for i in range(0, 2):\n",
    "\n",
    "        if (bus_route + \"_{}\".format(i)) in stops_sequence:\n",
    "\n",
    "            sequence = stops_sequence[bus_route + \"_{}\".format(i)]\n",
    "            route_dict['d{}'.format(i)] = {}\n",
    "            route_dict['d{}'.format(i)] = sequence\n",
    "\n",
    "        else:\n",
    "            pass\n",
    "\n",
    "    return route_dict"
   ]
  },
  {
   "cell_type": "code",
   "execution_count": 4,
   "id": "354fda5c",
   "metadata": {},
   "outputs": [],
   "source": [
    "def peak_hour(hour):\n",
    "    if (7 < hour < 10) or (16 < hour < 19):\n",
    "        peak = 1\n",
    "    else:\n",
    "        peak = 0\n",
    "\n",
    "    return peak"
   ]
  },
  {
   "cell_type": "code",
   "execution_count": 5,
   "id": "5f15a58f",
   "metadata": {},
   "outputs": [],
   "source": [
    "def direction(start, end, stops):\n",
    "\n",
    "    \"\"\" deciphers which direction the journey is taking place and returns the relevant key\n",
    "    such that the dictionary can be accessed \"\"\"\n",
    "\n",
    "    for key, value in stops.items():\n",
    "        if start in value and end in value:\n",
    "            return key"
   ]
  },
  {
   "cell_type": "code",
   "execution_count": 80,
   "id": "2695b9aa",
   "metadata": {},
   "outputs": [],
   "source": [
    "def prediction(route, hour, day, month, start_stop_id, end_stop_id, wind_speed, temp, humidity, weather_main,\n",
    "               stops):\n",
    "\n",
    "    journey_stops = stops[direction(start_stop_id, end_stop_id, stops)]\n",
    "    stop_sequence = journey_stops[journey_stops.index(start_stop_id):journey_stops.index(end_stop_id) + 1]\n",
    "\n",
    "    print(stop_sequence)\n",
    "    prediction_df = pd.DataFrame(stop_sequence, columns=['STOPPOINTID'])\n",
    "    prediction_df['NEXT_STOPPOINTID'] = prediction_df['STOPPOINTID'].shift(-1)\n",
    "    prediction_df = prediction_df.dropna(axis=0)\n",
    "    prediction_df['NEXT_STOPPOINTID'] = prediction_df['NEXT_STOPPOINTID'].astype('int')\n",
    "\n",
    "    df = pd.DataFrame(columns=['DAY', 'HOUR', 'MONTH', 'PEAK_HOUR', 'wind_speed', 'temp', 'humidity', 'weather_main'])\n",
    "\n",
    "    user_input = [day, hour, month, peak_hour(hour), wind_speed, temp, humidity, weather_main]\n",
    "\n",
    "    df.loc[0] = user_input\n",
    "\n",
    "    frames = [prediction_df, df]\n",
    "    result = pd.concat(frames, axis=1).ffill()\n",
    "\n",
    "    result['STOPPOINTID'] = result['STOPPOINTID'].astype('category')\n",
    "    result['NEXT_STOPPOINTID'] = result['NEXT_STOPPOINTID'].astype('category')\n",
    "    result['DAY'] = result['DAY'].astype('category')\n",
    "    result['HOUR'] = result['HOUR'].astype('category')\n",
    "    result['MONTH'] = result['MONTH'].astype('category')\n",
    "    result['PEAK_HOUR'] = result['PEAK_HOUR'].astype('int')\n",
    "    result['wind_speed'] = result['wind_speed'].astype('float')\n",
    "    result['temp'] = result['temp'].astype('int')\n",
    "    result['humidity'] = result['humidity'].astype('float')\n",
    "    result['weather_main'] = result['weather_main'].astype('category')\n",
    "\n",
    "    df_dummies = pd.get_dummies(result)\n",
    "\n",
    "    with open('/home/tomah/data/Model_Testing/LinRegPickles/LinReg_route_{}_headers.pkl'.format(route), 'rb') as handle:\n",
    "        dummies = pickle.load(handle)\n",
    "    full_dummies = pd.DataFrame(columns=dummies)\n",
    "\n",
    "    df_a, df_b = full_dummies.align(df_dummies, fill_value=0)\n",
    "\n",
    "    final_df_for_predict = df_b.reindex(full_dummies.columns, axis=1)\n",
    "\n",
    "    with open('/home/tomah/data/Model_Testing/LinRegPickles/LinReg_Model_route_{}.pkl'.format(route), 'rb') as handle:\n",
    "        model = pickle.load(handle)\n",
    "\n",
    "    y_pred_linear = model.predict(final_df_for_predict)\n",
    "\n",
    "    # remove any predictions that are way off due to the new stop sequence data being used\n",
    "    # take the average journey time between all other stops and replace the incorrect prediction with this value\n",
    "    \n",
    "    good_array = [item for item in y_pred_linear if item < 400 and item >0]\n",
    "    average = sum(good_array)/len(good_array)\n",
    "    good_pred = [average if test > 400 or test < 0 else test for test in y_pred_linear]\n",
    "    \n",
    "    print(y_pred_linear, '\\n')\n",
    "    print(good_pred)\n",
    "    \n",
    "    final_prediction = sum(good_pred) / 60\n",
    "\n",
    "    return final_prediction"
   ]
  },
  {
   "cell_type": "code",
   "execution_count": 31,
   "id": "0ea794db",
   "metadata": {},
   "outputs": [],
   "source": [
    "stops_dict = get_route(Stops_Seq, '16')"
   ]
  },
  {
   "cell_type": "code",
   "execution_count": 32,
   "id": "21832dc0",
   "metadata": {},
   "outputs": [
    {
     "data": {
      "text/plain": [
       "{'d0': [7347,\n",
       "  3669,\n",
       "  7349,\n",
       "  1631,\n",
       "  1632,\n",
       "  5053,\n",
       "  1633,\n",
       "  1634,\n",
       "  1635,\n",
       "  1636,\n",
       "  1637,\n",
       "  1638,\n",
       "  1639,\n",
       "  1640,\n",
       "  231,\n",
       "  232,\n",
       "  233,\n",
       "  234,\n",
       "  235,\n",
       "  236,\n",
       "  237,\n",
       "  213,\n",
       "  214,\n",
       "  4432,\n",
       "  119,\n",
       "  44,\n",
       "  7603,\n",
       "  45,\n",
       "  46,\n",
       "  47,\n",
       "  48,\n",
       "  49,\n",
       "  51,\n",
       "  52,\n",
       "  262,\n",
       "  270,\n",
       "  336,\n",
       "  1279,\n",
       "  1282,\n",
       "  4456,\n",
       "  1284,\n",
       "  1285,\n",
       "  1287,\n",
       "  1288,\n",
       "  1289,\n",
       "  1290,\n",
       "  1291,\n",
       "  1292,\n",
       "  1293,\n",
       "  1294,\n",
       "  1295,\n",
       "  1296,\n",
       "  1297,\n",
       "  1298,\n",
       "  1299,\n",
       "  1300,\n",
       "  1301,\n",
       "  1302,\n",
       "  1303,\n",
       "  1304,\n",
       "  1305,\n",
       "  1320,\n",
       "  1321,\n",
       "  1322,\n",
       "  1323,\n",
       "  1324,\n",
       "  7068,\n",
       "  2966,\n",
       "  2967,\n",
       "  2968,\n",
       "  2969,\n",
       "  2970,\n",
       "  2971,\n",
       "  5051,\n",
       "  5052,\n",
       "  2975],\n",
       " 'd1': [5171,\n",
       "  2976,\n",
       "  2977,\n",
       "  2978,\n",
       "  2979,\n",
       "  2980,\n",
       "  2981,\n",
       "  2991,\n",
       "  2992,\n",
       "  1325,\n",
       "  1326,\n",
       "  1327,\n",
       "  1328,\n",
       "  1329,\n",
       "  1330,\n",
       "  1331,\n",
       "  1332,\n",
       "  1333,\n",
       "  1334,\n",
       "  7293,\n",
       "  1335,\n",
       "  1336,\n",
       "  1337,\n",
       "  1338,\n",
       "  1339,\n",
       "  1340,\n",
       "  1341,\n",
       "  1342,\n",
       "  1343,\n",
       "  1344,\n",
       "  1345,\n",
       "  1347,\n",
       "  1348,\n",
       "  1349,\n",
       "  1350,\n",
       "  1352,\n",
       "  1353,\n",
       "  1355,\n",
       "  1357,\n",
       "  1359,\n",
       "  320,\n",
       "  278,\n",
       "  8,\n",
       "  12,\n",
       "  14,\n",
       "  15,\n",
       "  17,\n",
       "  18,\n",
       "  19,\n",
       "  21,\n",
       "  7602,\n",
       "  85,\n",
       "  203,\n",
       "  204,\n",
       "  205,\n",
       "  215,\n",
       "  216,\n",
       "  217,\n",
       "  218,\n",
       "  219,\n",
       "  220,\n",
       "  1622,\n",
       "  1623,\n",
       "  1624,\n",
       "  1625,\n",
       "  1626,\n",
       "  1627,\n",
       "  1628,\n",
       "  1629,\n",
       "  1630,\n",
       "  7347]}"
      ]
     },
     "execution_count": 32,
     "metadata": {},
     "output_type": "execute_result"
    }
   ],
   "source": [
    "stops_dict"
   ]
  },
  {
   "cell_type": "code",
   "execution_count": 27,
   "id": "f624df20",
   "metadata": {},
   "outputs": [],
   "source": [
    "d = direction(85, 215, stops_dict)"
   ]
  },
  {
   "cell_type": "code",
   "execution_count": 28,
   "id": "e1a14bad",
   "metadata": {},
   "outputs": [
    {
     "name": "stdout",
     "output_type": "stream",
     "text": [
      "d1\n"
     ]
    }
   ],
   "source": [
    "print(d)"
   ]
  },
  {
   "cell_type": "code",
   "execution_count": 81,
   "id": "a8fdb919",
   "metadata": {},
   "outputs": [
    {
     "name": "stdout",
     "output_type": "stream",
     "text": [
      "[1342, 1343, 1344, 1345, 1347, 1348, 1349, 1350, 1352, 1353, 1355, 1357, 1359, 320, 278, 8, 12, 14, 15, 17, 18, 19, 21, 7602, 85, 203, 204, 205, 215, 216, 217, 218, 219, 220, 1622, 1623, 1624, 1625, 1626, 1627, 1628, 1629, 1630, 7347]\n",
      "[2.10050049e+01 7.32644653e+01 4.20750122e+01 7.12653198e+01\n",
      " 8.18760376e+01 3.21667480e+01 4.33318481e+01 8.99859009e+01\n",
      " 3.35797119e+01 4.84957170e+07 7.44408569e+01 1.19468811e+02\n",
      " 9.44899292e+01 1.85909790e+02 7.96805204e+07 1.14799927e+02\n",
      " 5.14135132e+01 5.51184692e+01 7.21540527e+01 5.39656372e+01\n",
      " 2.78997803e+01 6.03074951e+01 3.06143188e+01 4.27145386e+01\n",
      " 6.78944702e+01 5.44329224e+01 3.17337036e+01 9.41070557e+01\n",
      " 7.20065308e+01 2.32195435e+01 8.32307739e+01 5.50765381e+01\n",
      " 9.49637451e+01 4.44577637e+01 2.44042969e+01 7.60714722e+01\n",
      " 8.86654663e+01 5.10200806e+01 5.77492676e+01 4.37208252e+01\n",
      " 3.49431152e+01 6.98836060e+01 1.93529114e+02] \n",
      "\n",
      "[21.0050048828125, 73.26446533203125, 42.07501220703125, 71.26531982421875, 81.87603759765625, 32.166748046875, 43.33184814453125, 89.98590087890625, 33.5797119140625, 66.6574989877096, 74.44085693359375, 119.46881103515625, 94.48992919921875, 185.9097900390625, 66.6574989877096, 114.7999267578125, 51.41351318359375, 55.11846923828125, 72.154052734375, 53.96563720703125, 27.8997802734375, 60.3074951171875, 30.61431884765625, 42.71453857421875, 67.89447021484375, 54.43292236328125, 31.73370361328125, 94.1070556640625, 72.00653076171875, 23.21954345703125, 83.23077392578125, 55.0765380859375, 94.9637451171875, 44.457763671875, 24.404296875, 76.07147216796875, 88.66546630859375, 51.02008056640625, 57.749267578125, 43.7208251953125, 34.943115234375, 69.88360595703125, 193.52911376953125]\n"
     ]
    },
    {
     "data": {
      "text/plain": [
       "47.77120760785854"
      ]
     },
     "execution_count": 81,
     "metadata": {},
     "output_type": "execute_result"
    }
   ],
   "source": [
    "prediction('16', 10, 1, 8, 1342, 7347, 8, 11, 11, 'Rain', stops_dict)"
   ]
  },
  {
   "cell_type": "markdown",
   "id": "72a362d3",
   "metadata": {},
   "source": [
    "# exploring solution for incorrect predictions \n",
    "\n"
   ]
  },
  {
   "cell_type": "code",
   "execution_count": 47,
   "id": "bfef668a",
   "metadata": {},
   "outputs": [
    {
     "data": {
      "text/plain": [
       "array([2.10050049e+01, 7.32644653e+01, 4.20750122e+01, 7.12653198e+01,\n",
       "       8.18760376e+01, 3.21667480e+01, 4.33318481e+01, 8.99859009e+01,\n",
       "       3.35797119e+01, 4.84957170e+07, 7.44408569e+01, 1.19468811e+02,\n",
       "       9.44899292e+01, 1.85909790e+02, 7.96805204e+07, 1.14799927e+02,\n",
       "       5.14135132e+01, 5.51184692e+01, 7.21540527e+01, 5.39656372e+01,\n",
       "       2.78997803e+01, 6.03074951e+01, 3.06143188e+01, 4.27145386e+01,\n",
       "       6.78944702e+01, 5.44329224e+01, 3.17337036e+01, 9.41070557e+01,\n",
       "       7.20065308e+01, 2.32195435e+01, 8.32307739e+01, 5.50765381e+01,\n",
       "       9.49637451e+01, 4.44577637e+01, 2.44042969e+01, 7.60714722e+01,\n",
       "       8.86654663e+01, 5.10200806e+01, 5.77492676e+01, 4.37208252e+01,\n",
       "       3.49431152e+01, 6.98836060e+01, 1.93529114e+02])"
      ]
     },
     "execution_count": 47,
     "metadata": {},
     "output_type": "execute_result"
    }
   ],
   "source": [
    "test_array"
   ]
  },
  {
   "cell_type": "markdown",
   "id": "e77b77d9",
   "metadata": {},
   "source": [
    "We're going to replace any predictions that are over 400 seconds with the average jounrye time between stops."
   ]
  },
  {
   "cell_type": "code",
   "execution_count": 67,
   "id": "d837dc21",
   "metadata": {},
   "outputs": [],
   "source": [
    "good_array = [item for item in test_array if item < 400 and item >0]"
   ]
  },
  {
   "cell_type": "code",
   "execution_count": 68,
   "id": "70ed90e8",
   "metadata": {},
   "outputs": [],
   "source": [
    "average = sum(good_array)/len(good_array)"
   ]
  },
  {
   "cell_type": "code",
   "execution_count": 69,
   "id": "fa9c2a0e",
   "metadata": {},
   "outputs": [
    {
     "data": {
      "text/plain": [
       "66.6574989877096"
      ]
     },
     "execution_count": 69,
     "metadata": {},
     "output_type": "execute_result"
    }
   ],
   "source": [
    "average"
   ]
  },
  {
   "cell_type": "code",
   "execution_count": 74,
   "id": "71c44213",
   "metadata": {},
   "outputs": [],
   "source": [
    "new_pred = [average if test > 400 or test < 0 else test for test in test_array]"
   ]
  },
  {
   "cell_type": "code",
   "execution_count": 75,
   "id": "424fff3b",
   "metadata": {},
   "outputs": [
    {
     "data": {
      "text/plain": [
       "[21.0050048828125,\n",
       " 73.26446533203125,\n",
       " 42.07501220703125,\n",
       " 71.26531982421875,\n",
       " 81.87603759765625,\n",
       " 32.166748046875,\n",
       " 43.33184814453125,\n",
       " 89.98590087890625,\n",
       " 33.5797119140625,\n",
       " 66.6574989877096,\n",
       " 74.44085693359375,\n",
       " 119.46881103515625,\n",
       " 94.48992919921875,\n",
       " 185.9097900390625,\n",
       " 66.6574989877096,\n",
       " 114.7999267578125,\n",
       " 51.41351318359375,\n",
       " 55.11846923828125,\n",
       " 72.154052734375,\n",
       " 53.96563720703125,\n",
       " 27.8997802734375,\n",
       " 60.3074951171875,\n",
       " 30.61431884765625,\n",
       " 42.71453857421875,\n",
       " 67.89447021484375,\n",
       " 54.43292236328125,\n",
       " 31.73370361328125,\n",
       " 94.1070556640625,\n",
       " 72.00653076171875,\n",
       " 23.21954345703125,\n",
       " 83.23077392578125,\n",
       " 55.0765380859375,\n",
       " 94.9637451171875,\n",
       " 44.457763671875,\n",
       " 24.404296875,\n",
       " 76.07147216796875,\n",
       " 88.66546630859375,\n",
       " 51.02008056640625,\n",
       " 57.749267578125,\n",
       " 43.7208251953125,\n",
       " 34.943115234375,\n",
       " 69.88360595703125,\n",
       " 193.52911376953125]"
      ]
     },
     "execution_count": 75,
     "metadata": {},
     "output_type": "execute_result"
    }
   ],
   "source": [
    "new_pred"
   ]
  },
  {
   "cell_type": "code",
   "execution_count": null,
   "id": "6d317a33",
   "metadata": {},
   "outputs": [],
   "source": []
  }
 ],
 "metadata": {
  "kernelspec": {
   "display_name": "Python 3",
   "language": "python",
   "name": "python3"
  },
  "language_info": {
   "codemirror_mode": {
    "name": "ipython",
    "version": 3
   },
   "file_extension": ".py",
   "mimetype": "text/x-python",
   "name": "python",
   "nbconvert_exporter": "python",
   "pygments_lexer": "ipython3",
   "version": "3.8.3"
  }
 },
 "nbformat": 4,
 "nbformat_minor": 5
}
